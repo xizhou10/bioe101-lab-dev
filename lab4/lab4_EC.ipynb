{
 "cells": [
  {
   "cell_type": "markdown",
   "metadata": {},
   "source": [
    "# BioE 101 Lab 4 - Build an EKG\n",
    "\n",
    "## Objectives:\n",
    "\n",
    "- Learn about cardiac signals and EKG measurement\n",
    "\n",
    "- Apply theory of interference, CMRR, noise, and instrumentation amplifiers\n",
    "\n",
    "- Build filters for signal conditioning\n",
    "\n",
    "- Gain practical experience with soldering and protoboards\n",
    "\n",
    "- Interface conditioned analog signals with digital logic in Arduino and Python\n",
    "\n",
    "**<span style=\"color:red\">NOTE: This lab involves the use of electrodes directly coupled to skin. Please STOP\n",
    "and CALL a TA if you are uncomfortable with using these electrodes, or if you feel\n",
    "tingling/dizziness from wearing them. ALWAYS ASK if you are uncertain of a circuit\n",
    "connection before hooking up power to yourself.</span>**\n",
    "\n",
    "## Schedule and Lab Reports\n",
    "-  Week 1: Prototype an EKG amplifier on a breadboard and test it on a live human\n",
    "subject. Entire pre-lab is due at the beginning of the lab.\n",
    "\n",
    "- Week 2: Read out your EKG data to the Arduino and get fancy for extra credit. The entire lab report is due the\n",
    "week following the lab — no lab report is due at the beginning of the second week."
   ]
  },
  {
   "cell_type": "markdown",
   "metadata": {},
   "source": [
    "## 5. Arduino/Python Heart Monitor (Extra Credit)\n",
    "- Now connect the output of your amplifier to pin A0 and the GND of your circuit to the GND pin of the Arduino board\n",
    "\n",
    "- Build a heart monitor application which produces the following:\n",
    "\n",
    "    - A graph of the waveform, appropriately scaled (+10 points)\n",
    "\n",
    "    - A short beep indicating a heartbeat (+10 points)\n",
    "\n",
    "    - A number indicating heart rate. This should be updated in real time. (+10\n",
    "        points)\n",
    "\n",
    "    - A long tone indicating cardiac arrest (aka “code blue”). In our case, we will\n",
    "        define this as having no detectable pulse for 5 seconds. (+10 points)\n",
    "     \n",
    "    - Frequency of tone scales with heart rate (higher heart rates lead to higher\n",
    "        frequencies). (+10 points)\n",
    "\n",
    "    - Add a software band-pass filter to reduce interference and motion artifacts.\n",
    "        (+10 points)\n",
    "\n",
    "    -  Use an autocorrelation algorithm rather than a thresholding algorithm to\n",
    "        detect heart rate. Note that this will be much more robust than the\n",
    "        thresholding algorithm. (+30 points)\n",
    "\n",
    "- To claim your extra credit, demonstrate your heart monitor to a GSI and explain the algorithms used\n"
   ]
  }
 ],
 "metadata": {
  "kernelspec": {
   "display_name": "Python 3",
   "language": "python",
   "name": "python3"
  },
  "language_info": {
   "codemirror_mode": {
    "name": "ipython",
    "version": 3
   },
   "file_extension": ".py",
   "mimetype": "text/x-python",
   "name": "python",
   "nbconvert_exporter": "python",
   "pygments_lexer": "ipython3",
   "version": "3.4.5"
  }
 },
 "nbformat": 4,
 "nbformat_minor": 0
}
