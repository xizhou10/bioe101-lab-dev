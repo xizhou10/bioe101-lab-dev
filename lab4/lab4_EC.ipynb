{
 "cells": [
  {
   "cell_type": "markdown",
   "metadata": {},
   "source": [
    "# BioE 101 Lab 4 - Build an EKG\n",
    "\n",
    "## Objectives:\n",
    "\n",
    "- Learn about cardiac signals and EKG measurement\n",
    "\n",
    "- Apply theory of interference, CMRR, noise, and instrumentation amplifiers\n",
    "\n",
    "- Build filters for signal conditioning\n",
    "\n",
    "- Gain practical experience with soldering and protoboards\n",
    "\n",
    "- Interface conditioned analog signals with digital logic in Arduino and Python\n",
    "\n",
    "**<span style=\"color:red\">NOTE: This lab involves the use of electrodes directly coupled to skin. Please STOP\n",
    "and CALL a TA if you are uncomfortable with using these electrodes, or if you feel\n",
    "tingling/dizziness from wearing them. ALWAYS ASK if you are uncertain of a circuit\n",
    "connection before hooking up power to yourself.</span>**\n",
    "\n",
    "## Schedule and Lab Reports\n",
    "-  Week 1: Prototype an EKG amplifier on a breadboard and test it on a live human\n",
    "subject. Entire pre-lab is due at the beginning of the lab.\n",
    "\n",
    "- Week 2: Read out your EKG data to the Arduino and get fancy for extra credit. The entire lab report is due the\n",
    "week following the lab — no lab report is due at the beginning of the second week."
   ]
  },
  {
   "cell_type": "markdown",
   "metadata": {},
   "source": [
    "## 5. Arduino/Python Heart Monitor (Extra Credit)\n",
    "- Now connect the output of your amplifier to pin A0 and the GND of your circuit to the GND pin of the Arduino board\n",
    "\n",
    "- Build a heart monitor application which produces the following:\n",
    "\n",
    "    - A graph of the waveform, appropriately scaled (+10 points)\n",
    "\n",
    "    - Add a software band-pass filter to reduce interference and motion artifacts.\n",
    "        (+10 points)\n",
    "\n",
    "    -  Use an autocorrelation algorithm rather than a thresholding algorithm to\n",
    "        detect heart rate. Note that this will be much more robust than the\n",
    "        thresholding algorithm. (+30 points)\n",
    "\n",
    "- To claim your extra credit, demonstrate your heart monitor to a GSI and explain the algorithms used\n"
   ]
  },
  {
   "cell_type": "code",
   "execution_count": null,
   "metadata": {
    "collapsed": true
   },
   "outputs": [],
   "source": [
    "# allows plots to be plotted right below the cell when run\n",
    "%matplotlib inline \n",
    "import serial # the library for reading from serial com ports\n",
    "import numpy as np # naming convention for numpy library\n",
    "import matplotlib.pyplot as plt # naming convention for matplotlib\n",
    "from scipy.fftpack import fft, ifft # import discrete fourier transform and its inverse\n",
    "from scipy import signal"
   ]
  },
  {
   "cell_type": "code",
   "execution_count": null,
   "metadata": {
    "collapsed": true
   },
   "outputs": [],
   "source": [
    "def sample_arduino():\n",
    "    # preamble to set up serial communications\n",
    "    device = \"COM9\" # com port of Arduino <- CHANGE THIS TO THE ONE YOU FOUND\n",
    "    baud = 115200\n",
    "    ser = serial.Serial(device, baud, timeout=10)\n",
    "\n",
    "    # read in every line of serial code and throw away corrupt data\n",
    "    def read_serial_data(N):\n",
    "        raw_data = []\n",
    "        while (len(raw_data) < N+10): \n",
    "            data = ser.readline()\n",
    "            raw_data.append(data)\n",
    "        data = []\n",
    "        for i in raw_data:\n",
    "            try:\n",
    "                data.append(float(i))\n",
    "            except:\n",
    "                continue\n",
    "        return data\n",
    "    raw_data = read_serial_data(3000) # <- Adjust this line to read in more/less data\n",
    "    ser.close()\n",
    "    return raw_data"
   ]
  },
  {
   "cell_type": "code",
   "execution_count": null,
   "metadata": {
    "collapsed": false
   },
   "outputs": [],
   "source": [
    "signal = sample_arduino()\n",
    "plt.plot(signal) # change the indices to zoom in/out in time"
   ]
  },
  {
   "cell_type": "code",
   "execution_count": null,
   "metadata": {
    "collapsed": true
   },
   "outputs": [],
   "source": [
    "dft = fft(signal) # calculate fourier transform\n",
    "fs = 1000 # sampling rate\n",
    "N = len(dft) # length of discrete fourier transform\n",
    "freqs = [i*fs/N for i in range(N)] # convert from dft frequencies to Hz\n",
    "plt.plot(freqs[2:1000], np.abs(dft[2:1000])) # change the indices to zoom in/out in frequency"
   ]
  },
  {
   "cell_type": "markdown",
   "metadata": {},
   "source": [
    "### Digital Signal Processing ###\n",
    "\n",
    "Look up the documentation for scipy.signal's types of filters. For example, you can implement the a Butterworth Filter using:\n",
    "\n",
    "scipy.signal.butter(N, Wn, btype='low', analog=False, output='ba')\n",
    "\n",
    "The parameters are:\n",
    "\n",
    "- btype : {‘lowpass’, ‘highpass’, ‘bandpass’, ‘bandstop’}\n",
    "\n",
    "- Wn = Wcutoff/Wsample\n",
    "\n",
    "- N : order of filter"
   ]
  }
 ],
 "metadata": {
  "kernelspec": {
   "display_name": "Python 3",
   "language": "python",
   "name": "python3"
  },
  "language_info": {
   "codemirror_mode": {
    "name": "ipython",
    "version": 3
   },
   "file_extension": ".py",
   "mimetype": "text/x-python",
   "name": "python",
   "nbconvert_exporter": "python",
   "pygments_lexer": "ipython3",
   "version": "3.4.5"
  }
 },
 "nbformat": 4,
 "nbformat_minor": 0
}
