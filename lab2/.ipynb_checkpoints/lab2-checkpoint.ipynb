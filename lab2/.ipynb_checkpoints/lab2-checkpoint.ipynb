{
 "cells": [
  {
   "cell_type": "markdown",
   "metadata": {},
   "source": [
    "# BioE 101 Lab 2#\n",
    "\n",
    "## Objectives: ##\n",
    "\n",
    "- Learn how to program with IPython\n",
    "\n",
    "- Use IPython to plot signals in the time and frequency domain\n",
    "\n",
    "- Observe aliasing and quantization error in sampled data\n",
    "\n",
    "- Connect a microphone to your Arduino\n",
    "\n",
    "- Estimate noise and SNR from microphone recordings\n",
    "\n",
    "- Build an algorithm with IPython to distinguish you and your partner’s voice\n",
    "\n",
    "\n"
   ]
  },
  {
   "cell_type": "markdown",
   "metadata": {},
   "source": [
    "## Part 1. Displaying signals in time and frequency domain with Python\n",
    "\n",
    "We're going to generate waveform inputs into the Arduino and view it in the time and frequency domains. The Arduino has a 10-bit ADC built into it. That puts a limit on how small our input can be. \n",
    "\n",
    "**Question 1**: If our ADC is 10 bits, what is the smallest voltage difference we can observe between any two points?\n",
    "\n",
    "### Observe a sine wave in time and frequency domains\n",
    "\n",
    "Before hooking up the function generator to the Arduino, always check the waveform with an oscilloscope to make sure the output is what you want.\n",
    "\n",
    "Using the same procedure as the end of lab 1: \n",
    "- Connect the function generator to the A0 and GND pins of the Arduino and upload the send_serial.ino sketch to the Arduino board. \n",
    "- Set the sine wave to be 20 Hz with 1Vpp and 2.5V DC offset. \n",
    "    - **Any waveform is okay as long as none of the waveform dips below 0V or goes above 5V**\n",
    "- Turn on the function generator and view the serial plotter using Tools->Serial Plotter. You should see the sine wave.\n",
    "\n",
    "The Python code below is an introduction on how to use \"fft\" and \"ifft\" fucntion form \"scipy.fftpack\" to do fourier transfrom and inverse fourier transform. In the given Arduino file, you already send the file to Serial after each run. Here, we import the data from Serial and do Fourier Analysis for it. After you run the Arduino file, please run the code below.\n",
    "\n",
    "**Things to check before running:**\n",
    "- Make sure the interval in the Arduino sketch is 1000\n",
    "- Make sure your waveform is okay and your equipment works\n",
    "- Make sure you know the COM port of your Arduino (explained in the next block)\n",
    "\n",
    "Instead of the Serial Plotter, we will now be using the Python code below to plot and analyze our signals. The code below imports the necessary Python libraries:"
   ]
  },
  {
   "cell_type": "code",
   "execution_count": 3,
   "metadata": {
    "collapsed": true
   },
   "outputs": [],
   "source": [
    "# allows plots to be plotted right below the cell when run\n",
    "%matplotlib inline \n",
    "import serial # the library for reading from serial com ports\n",
    "import numpy as np # naming convention for numpy library\n",
    "import matplotlib.pyplot as plt # naming convention for matplotlib\n",
    "from scipy.fftpack import fft, ifft # import discrete fourier transform and its inverse"
   ]
  },
  {
   "cell_type": "markdown",
   "metadata": {},
   "source": [
    "Before proceeding, find the serial port for your arduino. On Windows, check Device Manager and go under Ports and find the Arduino COM Port. On Macs, go to the terminal and type ls /dev/tty.\\* and look for the port corresponding to the Arduino.\n",
    "\n",
    "Also make sure to close the Serial monitor or plotter since that is accessing the serial port and only one program can access the serial port at a time.\n",
    "\n",
    "Now, run the block below to define a sampling function that samples your serial data for 3 seconds (you can edit this to to sample for any arbitrary amount of time)."
   ]
  },
  {
   "cell_type": "code",
   "execution_count": 7,
   "metadata": {
    "collapsed": false
   },
   "outputs": [],
   "source": [
    "def sample_arduino():\n",
    "    # preamble to set up serial communications\n",
    "    device = \"COM9\" # com port of Arduino <- CHANGE THIS TO THE ONE YOU FOUND\n",
    "    baud = 115200\n",
    "    ser = serial.Serial(device, baud, timeout=10)\n",
    "\n",
    "    # read in every line of serial code and throw away corrupt data\n",
    "    def read_serial_data(N):\n",
    "        raw_data = []\n",
    "        while (len(raw_data) < N+10): \n",
    "            data = ser.readline()\n",
    "            raw_data.append(data)\n",
    "        data = []\n",
    "        for i in raw_data:\n",
    "            try:\n",
    "                data.append(float(i))\n",
    "            except:\n",
    "                continue\n",
    "        return data\n",
    "    raw_data = read_serial_data(3000) # <- Adjust this line to read in more/less data\n",
    "    ser.close()\n",
    "    return raw_data\n"
   ]
  },
  {
   "cell_type": "markdown",
   "metadata": {},
   "source": [
    "Run the following block of code to sample and plot your waveform:"
   ]
  },
  {
   "cell_type": "code",
   "execution_count": 21,
   "metadata": {
    "collapsed": false,
    "scrolled": true
   },
   "outputs": [
    {
     "data": {
      "text/plain": [
       "[<matplotlib.lines.Line2D at 0x667e780>]"
      ]
     },
     "execution_count": 21,
     "metadata": {},
     "output_type": "execute_result"
    },
    {
     "data": {
      "image/png": "[encoded data removed]",
      "text/plain": [
       "<matplotlib.figure.Figure at 0x662b0b8>"
      ]
     },
     "metadata": {},
     "output_type": "display_data"
    }
   ],
   "source": [
    "signal = sample_arduino()\n",
    "plt.plot(signal[100:200]) # change the indices to zoom in/out in time"
   ]
  },
  {
   "cell_type": "markdown",
   "metadata": {},
   "source": [
    "To take a fourier transform of the above signal and analyze its frequency spectrum, run the code below:"
   ]
  },
  {
   "cell_type": "code",
   "execution_count": 24,
   "metadata": {
    "collapsed": false
   },
   "outputs": [
    {
     "data": {
      "text/plain": [
       "[<matplotlib.lines.Line2D at 0x927d940>]"
      ]
     },
     "execution_count": 24,
     "metadata": {},
     "output_type": "execute_result"
    },
    {
     "data": {
      "image/png": "[encoded data removed]",
      "text/plain": [
       "<matplotlib.figure.Figure at 0x7bb0f98>"
      ]
     },
     "metadata": {},
     "output_type": "display_data"
    }
   ],
   "source": [
    "dft = fft(signal) # calculate fourier transform\n",
    "fs = 1000 # sampling rate\n",
    "N = len(dft) # length of discrete fourier transform\n",
    "freqs = [i*fs/N for i in range(N)] # convert from dft frequencies to Hz\n",
    "plt.plot(freqs[2:1000], np.abs(dft[2:1000])) # change the indices to zoom in/out in frequency"
   ]
  },
  {
   "cell_type": "markdown",
   "metadata": {},
   "source": [
    "**Question 2**: Now try this with increasing frequencies (suggestion: step 50 Hz at a time starting at 50 Hz). At what point does the frequency not match your input? \n",
    "\n",
    "**Question 3**: What property of LTI systems does this violate? Why is sampling not an LTI operator?"
   ]
  },
  {
   "cell_type": "markdown",
   "metadata": {
    "collapsed": true
   },
   "source": [
    "## Part 2: Microphone ##\n",
    "\n",
    "In this section, you will connect a simple microphone to your Arduino and measure noise and voice signal. You will then develop an algorithm to distinguish between your and your partner's voices.\n",
    "\n",
    "- Connect ground and 5V from a power supply to the microphone GND and VCC pins (use a breadboard). Connect the same ground node to the ground of the arduino and the OUT pin to A0 of the arduino. Check that your microphone works with either an oscilloscope or the arudino serial plotter.\n",
    "\n",
    "- If your voice isn't getting picked up, try getting a screwdriver and twist the knob on the back of the microphone to increase the gain of the built-in amplifier\n",
    "\n",
    "- Now run the blocks below and take turns sampling each other's voices.\n",
    "\n",
    "While speaking into the microphone, make sure to be loud and clear. Try things like saying a specific word or humming a tune!"
   ]
  },
  {
   "cell_type": "code",
   "execution_count": null,
   "metadata": {
    "collapsed": false
   },
   "outputs": [],
   "source": [
    "signal = sample_arduino()\n",
    "print(\"Partner 1\")\n",
    "plt.figure()\n",
    "plt.plot(signal[100:200]) # change the indices to zoom in/out in time\n",
    "plt.figure()\n",
    "dft = fft(signal)\n",
    "fs = 1000\n",
    "N = len(dft)\n",
    "freqs = [i*fs/N for i in range(N)]\n",
    "plt.plot(freqs[2:1000], np.abs(dft[2:1000])) # change the indices to zoom in/out in frequency\n",
    "\n",
    "\n",
    "# SAVE PARTNER 1 DATA #\n",
    "partner_1_ft = freqs"
   ]
  },
  {
   "cell_type": "code",
   "execution_count": null,
   "metadata": {
    "collapsed": true
   },
   "outputs": [],
   "source": [
    "signal = sample_arduino()\n",
    "print(\"Partner 2\")\n",
    "plt.figure()\n",
    "plt.plot(signal[100:200]) # change the indices to zoom in/out in time\n",
    "plt.figure()\n",
    "dft = fft(signal)\n",
    "fs = 1000\n",
    "N = len(dft)\n",
    "freqs = [i*fs/N for i in range(N)]\n",
    "plt.plot(freqs[2:1000], np.abs(dft[2:1000])) # change the indices to zoom in/out in frequency\n",
    "\n",
    "\n",
    "# SAVE PARTNER 2 DATA #\n",
    "partner_2_ft = freqs"
   ]
  },
  {
   "cell_type": "code",
   "execution_count": null,
   "metadata": {
    "collapsed": true
   },
   "outputs": [],
   "source": [
    "signal = sample_arduino()\n",
    "print(\"Partner 3\")\n",
    "plt.figure()\n",
    "plt.plot(signal[100:200]) # change the indices to zoom in/out in time\n",
    "plt.figure()\n",
    "dft = fft(signal)\n",
    "fs = 1000\n",
    "N = len(dft)\n",
    "freqs = [i*fs/N for i in range(N)]\n",
    "plt.plot(freqs[2:1000], np.abs(dft[2:1000])) # change the indices to zoom in/out in frequency\n",
    "\n",
    "\n",
    "# SAVE PARTNER 2 DATA #\n",
    "partner_3_ft = freqs"
   ]
  },
  {
   "cell_type": "markdown",
   "metadata": {},
   "source": [
    "** Question 4**: How clean are the voice samples? What kinds of noises/interferences are present?"
   ]
  },
  {
   "cell_type": "markdown",
   "metadata": {},
   "source": [
    "**Bonus Question**: Now that you've stored all of your group members' voices, create a program that takes in a voice sample and outputs the person whose voice matches it the most. (Hint: there's an algorithm called cross-correlation that calculates the similarity between two signals. You can use np.correlate(partner_1_ft, partner_2_ft) to compare two voices)"
   ]
  }
 ],
 "metadata": {
  "anaconda-cloud": {},
  "kernelspec": {
   "display_name": "Python [default]",
   "language": "python",
   "name": "python3"
  },
  "language_info": {
   "codemirror_mode": {
    "name": "ipython",
    "version": 3
   },
   "file_extension": ".py",
   "mimetype": "text/x-python",
   "name": "python",
   "nbconvert_exporter": "python",
   "pygments_lexer": "ipython3",
   "version": "3.5.2"
  }
 },
 "nbformat": 4,
 "nbformat_minor": 0
}
