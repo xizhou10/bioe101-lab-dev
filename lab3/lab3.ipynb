{
 "cells": [
  {
   "cell_type": "markdown",
   "metadata": {
    "collapsed": true
   },
   "source": [
    "# BioE 101  Lab 3\n",
    "\n",
    "## Objectives:\n",
    "\n",
    "- Learn about sensors\n",
    "\n",
    "- Implement and analyze voltage dividers and Wheatstone bridges for unknown\n",
    "resistances\n",
    "\n",
    "- Find Thevenin equivalent circuits\n",
    "\n",
    "- Design logic in Python to calibrate and output pressure levels\n",
    "\n",
    "- Determine the unknown pressure\n",
    "\n",
    "Teams will each turn in one list of answers to the questions in this lab. List all partners’ names and section numbers.\n",
    "\n",
    "## 1. Schedule and lab reports\n",
    "\n",
    "\n",
    "-  Week 1: Commercial force sensor with Arduino\n",
    "Sections 3 - 5 (Questions 1 - 9) due at the start of the second week of Lab #3\n",
    "\n",
    "-  Week 2: DIY homemade pressure sensor\n",
    "Section 6 (Questions 10 - 12) due the following week to your lab GSI at the beginning of Lab #4.\n",
    "\n",
    "## 2. Setup\n",
    "-  You and your partner should have the following items: Pressure sensor,\n",
    "breadboard and jumper wire kit, two banana cables (red and black), two\n",
    "alligator clips (red and black), and items of known and unknown weight.\n",
    "\n",
    "\n",
    "## 3. Using the pressure sensor\n",
    "\n",
    "-  A force-sensing resistor (FSR) is made of conductive polymer, which changes\n",
    "its conductance in a predictable manner when pressure is being applied on\n",
    "the surface. Typically, when we apply pressure on the active surface of a FSR,\n",
    "it exhibits a decrease in resistance. Sometimes, a FSR is designed for use in\n",
    "touch screens or panels on electronic devices.\n",
    "The following page gives a brief explanation of how conductive polymer\n",
    "works\n",
    "http://en.wikipedia.org/wiki/Conductive_polymer\n",
    "\n",
    "<br></br>\n",
    "<center>\n",
    "<img src=\"https://cdn.sparkfun.com//assets/parts/2/9/6/8/09376-1.jpg\" align=\"center\" style=\"height:350px\" />\n",
    "</center>\n",
    "<br></br>\n",
    "\n",
    "The specsheet of the FSR we use today can be found at\n",
    "https://www.sparkfun.com/products/9376\n"
   ]
  },
  {
   "cell_type": "markdown",
   "metadata": {},
   "source": [
    "<br></br>\n",
    "<center>\n",
    "<img src=\"wheatstone.png\" align=\"center\" style=\"height:350px\" />\n",
    "</center>\n",
    "<br></br>"
   ]
  },
  {
   "cell_type": "markdown",
   "metadata": {},
   "source": [
    "\n",
    "**Question 1:** What type of sensor is this? Does it give a voltage or current (or neither) output signal?\n"
   ]
  },
  {
   "cell_type": "markdown",
   "metadata": {},
   "source": [
    "-  You will now calculate the nominal sensing resistance of your sensor. Note:\n",
    "Do not use the sensing/load resistance values from the datasheet in the next\n",
    "sections. Instead, calculate it empirically as follows.\n",
    "\n",
    "-  Use your breadboard and the power supply to\n",
    "build a voltage divider with your sensor and a 680k$\\Omega$ resistor (anywhere from 100k$\\Omega$ to 1M$\\Omega$ should be fine). Wire the 5V and\n",
    "ground terminals to the red/blue rails on the board, and then use those rails\n",
    "for powering your circuit. Configure your voltage divider so the FSR is\n",
    "connected to GND, and use an oscilloscope, multimeter or serial monitor (you have to hook up the (+) output to A0 and (-) output to GND of the Arduino.\n",
    "\n",
    "**Question 2:** What is the resistance of your FSR with an empty falcon tube placed on the sensor? With a 10 g mass? With a 100g mass? (Fill the Falcon tube with water to vary the weights.) Show your work. Sketch and label your circuit, and write down what weight you used. Pro-Tip: To help with consistency of your measurements, tape down the FSR and let the\n",
    "measurement ‘settle’ for 2-3 min to reach steady-state before recording.\n",
    "\n"
   ]
  },
  {
   "cell_type": "markdown",
   "metadata": {},
   "source": [
    "## 4. Building matched resistance Wheatstone bridges\n",
    "\n",
    "- Build a matched Wheatstone bridge with your sensor, choosing resistor\n",
    "values for R1 (in the diagram below) that are as close as possible to the\n",
    "steady-state resistance of your FSR with 10 g, as determined in Question 2.\n",
    "It’s OK if the resistances don’t match perfectly—just try to get them as close\n",
    "as you can.\n",
    "\n",
    "<br></br>\n",
    "<center>\n",
    "<img src=\"wheatstone.png\" align=\"center\" style=\"height:350px\" />\n",
    "</center>\n",
    "<br></br>\n",
    "\n",
    "\n",
    "** Question 3:** Imagine that the Wheatstone bridge is actually two different voltage\n",
    "dividers in parallel. Calculate the voltage at Vc and Vd. Then, assuming that zero\n",
    "current passes between Vc and Vd, find an equation that describes Vout."
   ]
  },
  {
   "cell_type": "markdown",
   "metadata": {},
   "source": [
    "** Question 4:** Find an equation that describes Rs as a function of R1, Vbias, and Vout."
   ]
  },
  {
   "cell_type": "markdown",
   "metadata": {},
   "source": [
    "## 5. Data Analysis and Analog Output\n",
    "\n",
    "- Connect Vc and Vd of your voltage divider to the A1 and A0 pin of the Arduino, respectively and connect the ground of your circuit to GND of the Arduino. Leave all other circuit elements connected as before.\n",
    "\n",
    "\n",
    "**Question 5:** What is the steady state differential voltage between the two input\n",
    "terminals? Remember you may have to let the voltage differential ‘settle’ for many\n",
    "minutes before it reaches steady-state.\n"
   ]
  },
  {
   "cell_type": "markdown",
   "metadata": {},
   "source": [
    "\n",
    "- Standard objects (50 mL Falcon tubes containing different materials) have\n",
    "different weights. Determine the voltage differentials that correspond to these\n",
    "weights. Place the objects on your FSR one at a time, cap facing down, and\n",
    "record the differential voltage from your Wheatstone bridge. Assuming that\n",
    "the weight-differential voltage relationship is linear (in reality it isn’t, but\n",
    "we’ll just approximate it in a piecewise linear fashion), find the slope (change\n",
    "in voltage/change in weight) and y-intercept (voltage differential with no\n",
    "load).\n",
    "\n",
    "**Question 6:** What did you find as the equation of your weight-resistance plot? Plot it in\n",
    "R, Excel, etc. or use a PyPlot cell below. Note that answers may vary between groups."
   ]
  },
  {
   "cell_type": "code",
   "execution_count": 1,
   "metadata": {
    "collapsed": true
   },
   "outputs": [],
   "source": [
    "# Run this cell first to import the necessary packages\n",
    "\n",
    "# allows plots to be plotted right below the cell when run\n",
    "%matplotlib inline \n",
    "import serial # the library for reading from serial com ports\n",
    "import numpy as np # naming convention for numpy library\n",
    "import matplotlib.pyplot as plt # naming convention for matplotlib"
   ]
  },
  {
   "cell_type": "code",
   "execution_count": 2,
   "metadata": {
    "collapsed": false
   },
   "outputs": [
    {
     "data": {
      "text/plain": [
       "<matplotlib.text.Text at 0x7a9e240>"
      ]
     },
     "execution_count": 2,
     "metadata": {},
     "output_type": "execute_result"
    },
    {
     "data": {
      "image/png": "[encoded data removed]",
      "text/plain": [
       "<matplotlib.figure.Figure at 0x7a32ef0>"
      ]
     },
     "metadata": {},
     "output_type": "display_data"
    }
   ],
   "source": [
    "### ENTER YOUR VALUES HERE ###\n",
    "weights = np.array([13.48, 38.77, 45.45, 52.68, 76.31, 100]) # Fill in weights here, separated by commas (ex. [13.48, 45.45, 100])\n",
    "voltages = np.array([4, 1, 0.6, 0.5, 0.3, 0.01]) # Fill in output voltages here, separated by commas (ex. [1, 2, 4]) \n",
    "degree = 2 # keep this at 2, if you change it you have to change the equation for y detailed below\n",
    "\n",
    "\n",
    "# Make sure both lists have the same length!\n",
    "\n",
    "\n",
    "### DON'T MODIFY ANY CODE HERE, unless you want to play around with it ###\n",
    "plt.figure()\n",
    "\"\"\"\n",
    "change the 3rd option to increase or decrease the degree of polynomial fitting; \n",
    "this creates a list of polynomial coefficients using a least squares regression model\n",
    "\"\"\" \n",
    "c = np.polyfit(weights, voltages, degree) # array of coefficients, make sure to edit y afterwards\n",
    "x = np.linspace(0,100, 100) # creates variable weight to iterate over\n",
    "\"\"\"\n",
    "this is y = anx^n + bx^(n-1) + ... + cx + d, change according to number of degrees; \n",
    "right now it's y = a*x^2 + b*x + c because deg = 2 \n",
    "\"\"\" \n",
    "y = c[0]*(x**2) + c[1]*x + c[2] # c[0] is coefficent for x^n, c[1] for x^n-1, ..., c[deg] for y-int\n",
    "\n",
    "actual, = plt.plot(weights, voltages , label=\"actual\")\n",
    "estimate, = plt.plot(x, y, label=\"estimate\")\n",
    "plt.legend(handles=[actual, estimate], loc=1)\n",
    "plt.xlabel(\"weight (g)\"); plt.ylabel(\"voltage (V)\")\n"
   ]
  },
  {
   "cell_type": "markdown",
   "metadata": {},
   "source": [
    "**Question 7:** Using the linear model from above, calculate the weight of the mysterious\n",
    "object."
   ]
  },
  {
   "cell_type": "code",
   "execution_count": 3,
   "metadata": {
    "collapsed": false
   },
   "outputs": [
    {
     "name": "stdout",
     "output_type": "stream",
     "text": [
      "30.303030303 grams\n"
     ]
    }
   ],
   "source": [
    "# If you used the above cell, you can run this code to find the value\n",
    "\n",
    "### ENTER UNKNOWN WEIGHT VOLTAGE HERE ### \n",
    "unknown_val = 2 # enter voltage of unknown weight\n",
    "\n",
    "### DON'T MODIFY THIS CODE, read comment for explanation on what it does ###\n",
    "unknown_weight = x[np.abs(y - unknown_val).argmin()] # finds closest weight corresponding to the unknown value using linear model\n",
    "print(str(unknown_weight) + ' grams' )"
   ]
  },
  {
   "cell_type": "markdown",
   "metadata": {},
   "source": [
    "**Question 8:** Find one biomedical application of force sensor, and briefly describe how it works."
   ]
  },
  {
   "cell_type": "markdown",
   "metadata": {},
   "source": [
    "\n",
    "You can keep your set up for next week to test your homemade pressure sensor.\n",
    "\n",
    "## 6. Build a homemade pressure sensor\n",
    "You will use two copper plate electrodes and a piece of conductive foam.\n",
    "\n",
    "- First, cut two 2 x 2 cm electrodes from the copper plate, then solder wire leads\n",
    "on to each piece. Please ask for guidance if you have not previously soldered to copper.\n",
    "\n",
    "- Sandwich a 2 x 2 cm piece of conductive foam between the two electrodes,\n",
    "then glue in place with a hot glue gun.\n",
    "\n",
    "- The following questions will use the same techniques you applied in the first\n",
    "week.\n",
    "\n",
    "\n",
    "**Question 9:** What is the steady-state resistance with no load?"
   ]
  },
  {
   "cell_type": "markdown",
   "metadata": {},
   "source": [
    "**Question 10:** Experimentally make a weight vs. resistance curve by measuring a few\n",
    "objects of different weights. How does the resistance of the sensor change when\n",
    "pressure/weight is applied?"
   ]
  },
  {
   "cell_type": "markdown",
   "metadata": {},
   "source": [
    "**Question 11:** How sensitive is your device as compared to a commercial FSR? What is\n",
    "the smallest detectable weight of the commercial device, and your device?"
   ]
  },
  {
   "cell_type": "markdown",
   "metadata": {},
   "source": [
    "**Please wash your hands after class as the solder we use contains lead!**"
   ]
  }
 ],
 "metadata": {
  "anaconda-cloud": {},
  "kernelspec": {
   "display_name": "Python [default]",
   "language": "python",
   "name": "python3"
  },
  "language_info": {
   "codemirror_mode": {
    "name": "ipython",
    "version": 3
   },
   "file_extension": ".py",
   "mimetype": "text/x-python",
   "name": "python",
   "nbconvert_exporter": "python",
   "pygments_lexer": "ipython3",
   "version": "3.5.2"
  }
 },
 "nbformat": 4,
 "nbformat_minor": 0
}
