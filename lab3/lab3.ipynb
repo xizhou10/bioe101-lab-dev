{
 "cells": [
  {
   "cell_type": "markdown",
   "metadata": {
    "collapsed": true
   },
   "source": [
    "# BioE 101  Lab 3\n",
    "\n",
    "## Objectives:\n",
    "\n",
    "- Learn about sensors\n",
    "\n",
    "- Implement and analyze voltage dividers and Wheatstone bridges for unknown\n",
    "resistances\n",
    "\n",
    "- Find Thevenin equivalent circuits\n",
    "\n",
    "- Design logic in Python to calibrate and output pressure levels\n",
    "\n",
    "- Determine the unknown pressure\n",
    "\n",
    "Teams will each turn in one list of answers to the questions in this lab. List all partners’ names and section numbers.\n",
    "\n",
    "## 1. Schedule and lab reports\n",
    "\n",
    "\n",
    "-  Week 1: Commercial force sensor with Arduino\n",
    "Sections 3 - 5 (Questions 1 - 9) due at the start of the second week of Lab #3\n",
    "\n",
    "-  Week 2: DIY homemade pressure sensor\n",
    "Section 6 (Questions 10 - 12) due the following week to your lab GSI at the beginning of Lab #4.\n",
    "\n",
    "## 2. Setup\n",
    "-  You and your partner should have the following items: Pressure sensor,\n",
    "breadboard and jumper wire kit, two banana cables (red and black), two\n",
    "alligator clips (red and black), and items of known and unknown weight.\n",
    "\n",
    "\n",
    "## 3. Using the pressure sensor\n",
    "\n",
    "-  A force-sensing resistor (FSR) is made of conductive polymer, which changes\n",
    "its conductance in a predictable manner when pressure is being applied on\n",
    "the surface. Typically, when we apply pressure on the active surface of a FSR,\n",
    "it exhibits a decrease in resistance. Sometimes, a FSR is designed for use in\n",
    "touch screens or panels on electronic devices.\n",
    "The following page gives a brief explanation of how conductive polymer\n",
    "works\n",
    "http://en.wikipedia.org/wiki/Conductive_polymer\n",
    "\n",
    "<br></br>\n",
    "<center>\n",
    "<img src=\"https://cdn.sparkfun.com//assets/parts/2/9/6/8/09376-1.jpg\" align=\"center\" style=\"height:350px\" />\n",
    "</center>\n",
    "<br></br>\n",
    "\n",
    "The specsheet of the FSR we use today can be found at\n",
    "https://www.sparkfun.com/products/9376\n"
   ]
  },
  {
   "cell_type": "markdown",
   "metadata": {},
   "source": [
    "<br></br>\n",
    "<center>\n",
    "<img src=\"wheatstone.png\" align=\"center\" style=\"height:350px\" />\n",
    "</center>\n",
    "<br></br>"
   ]
  },
  {
   "cell_type": "markdown",
   "metadata": {},
   "source": [
    "\n",
    "**Question 1:** What type of sensor is this? Does it give a voltage or current (or neither) output signal?\n"
   ]
  },
  {
   "cell_type": "markdown",
   "metadata": {},
   "source": [
    "-  You will now calculate the nominal sensing resistance of your sensor. Note:\n",
    "Do not use the sensing/load resistance values from the datasheet in the next\n",
    "sections. Instead, calculate it empirically as follows.\n",
    "\n",
    "-  Use your breadboard and the Arduino’s DGND and 5V output terminals to\n",
    "build a voltage divider with your sensor and a 51kΩ resistor. Wire the 5V and\n",
    "ground terminals to the red/blue rails on the board, and then use those rails\n",
    "for powering your circuit. Configure your voltage divider so the FSR is\n",
    "connected to GND, and use an oscilloscope or the serial plotter.\n",
    "\n",
    "**Question 2:** What is the resistance of your FSR with an empty falcon tube placed on the sensor? With a 100g mass? Show your work. Sketch and label your circuit, and write down what weight you used. Pro-Tip: To help with consistency of your measurements, tape down the FSR and let the\n",
    "measurement ‘settle’ for 2-3 min to reach steady-state before recording.\n",
    "\n"
   ]
  },
  {
   "cell_type": "markdown",
   "metadata": {},
   "source": [
    "## 4. Building matched resistance Wheatstone bridges\n",
    "\n",
    "- Build a matched Wheatstone bridge with your sensor, choosing resistor\n",
    "values for R1 (in the diagram below) that are as close as possible to the\n",
    "steady-state resistance of your FSR with no load, as determined in Question 2.\n",
    "It’s OK if the resistances don’t match perfectly—just try to get them as close\n",
    "as you can.\n",
    "\n",
    "<br></br>\n",
    "<center>\n",
    "<img src=\"wheatstone.png\" align=\"center\" style=\"height:350px\" />\n",
    "</center>\n",
    "<br></br>\n",
    "\n",
    "\n",
    "** Question 3:** Imagine that the Wheatstone bridge is actually two different voltage\n",
    "dividers in parallel. Calculate the voltage at Vc and Vd. Then, assuming that zero\n",
    "current passes between Vc and Vd, find an equation that describes Vout."
   ]
  },
  {
   "cell_type": "markdown",
   "metadata": {},
   "source": [
    "** Question 4:** Find an equation that describes Rs as a function of R1, Vbias, and Vout."
   ]
  },
  {
   "cell_type": "markdown",
   "metadata": {},
   "source": [
    "## 5. Data Analysis and Analog Output\n",
    "\n",
    "- Connect Vc and Vd of your voltage divider to the two analog inputs (AI 0+\n",
    "and 0-) of the MyDAQ. Leave all other circuit elements connected as before—\n",
    "do not switch the ground from DGND (as in the previous section) to AGND.\n",
    "Create a LabView VI to continuously acquire differential measurements\n",
    "between the two terminals and output the result to a Waveform Graph.\n",
    "\n",
    "**Question 5:** What is the steady state differential voltage between the two input\n",
    "terminals? Remember you may have to let the voltage differential ‘settle’ for many\n",
    "minutes before it reaches steady-state.\n"
   ]
  },
  {
   "cell_type": "markdown",
   "metadata": {},
   "source": [
    "\n",
    "- Standard objects (50 mL Falcon tubes containing different materials) have\n",
    "different weights. Determine the voltage differentials that correspond to these\n",
    "weights. Place the objects on your FSR one at a time, cap facing down, and\n",
    "record the differential voltage from your Wheatstone bridge. Assuming that\n",
    "the weight-differential voltage relationship is linear (in reality it isn’t, but\n",
    "we’ll just approximate it in a piecewise linear fashion), find the slope (change\n",
    "in voltage/change in weight) and y-intercept (voltage differential with no\n",
    "load).\n",
    "\n",
    "**Question 6:** What did you find as the equation of your weight-resistance plot? Plot it in\n",
    "R, Excel, etc. or use a PyPlot cell below. Note that answers may vary between groups.\n"
   ]
  },
  {
   "cell_type": "markdown",
   "metadata": {},
   "source": [
    "**Question 7:** Using the linear model from above, calculate the weight of the mysterious\n",
    "object."
   ]
  },
  {
   "cell_type": "markdown",
   "metadata": {},
   "source": [
    "- Make a physical LED light up according to the amount of force detected by\n",
    "the sensor. To do this, you can use a PWM pin on the Arduino (3, 5, 6, 9, 10, or 11). This terminal can be directly plugged into a LED through a\n",
    "current-limiting resistor to ground. Try to limit the total current through the LED to no more than 20mA.\n",
    "\n",
    "**Question 8:** Find another method to communicate pressure, and write down your approach. Some possible ideas to get you started: \n",
    "<li>(1) create a series of Digital Output\n",
    "LEDs that light up sequentially with increasing pressure \n",
    "<li>(2) play a sine wave in the computer’s speakers, where the frequency is determined by pressure. Be creative!\n",
    "Attach a picture of your circuit board here if you had time to implement your method. Otherwise, a description is fine."
   ]
  },
  {
   "cell_type": "markdown",
   "metadata": {},
   "source": [
    "**Question 9:** Find one biomedical application of force sensor, and briefly describe how it works."
   ]
  },
  {
   "cell_type": "markdown",
   "metadata": {},
   "source": [
    "\n",
    "You can keep your set up for next week to test your homemade pressure sensor.\n",
    "\n",
    "## 6. Build a homemade pressure sensor\n",
    "You will use two copper plate electrodes and a piece of conductive foam.\n",
    "\n",
    "- First, cut two 2 x 2 cm electrodes from the copper plate, then solder wire leads\n",
    "on to each piece.\n",
    "\n",
    "- Sandwich a 2 x 2 cm piece of conductive foam between the two electrodes,\n",
    "then glue in place with a hot glue gun.\n",
    "\n",
    "- The following questions will use the same techniques you applied in the first\n",
    "week.\n",
    "\n",
    "\n",
    "**Question 10:** What is the steady-state resistance with no load?"
   ]
  },
  {
   "cell_type": "markdown",
   "metadata": {},
   "source": [
    "**Question 11:** Experimentally make a weight vs. resistance curve by measuring a few\n",
    "objects of different weights. How does the resistance of the sensor change when\n",
    "pressure/weight is applied?"
   ]
  },
  {
   "cell_type": "markdown",
   "metadata": {},
   "source": [
    "**Question 12:** How sensitive is your device as compared to a commercial FSR? What is\n",
    "the smallest detectable weight of the commercial device, and your device?"
   ]
  }
 ],
 "metadata": {
  "anaconda-cloud": {},
  "kernelspec": {
   "display_name": "Python [default]",
   "language": "python",
   "name": "python3"
  },
  "language_info": {
   "codemirror_mode": {
    "name": "ipython",
    "version": 3
   },
   "file_extension": ".py",
   "mimetype": "text/x-python",
   "name": "python",
   "nbconvert_exporter": "python",
   "pygments_lexer": "ipython3",
   "version": "3.5.2"
  }
 },
 "nbformat": 4,
 "nbformat_minor": 0
}
